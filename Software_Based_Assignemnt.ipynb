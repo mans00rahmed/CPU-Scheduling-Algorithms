{
  "nbformat": 4,
  "nbformat_minor": 0,
  "metadata": {
    "colab": {
      "name": "Software Based Assignemnt.ipynb",
      "provenance": [],
      "authorship_tag": "ABX9TyNEq3GgE7xVWHJw14JGrSHy",
      "include_colab_link": true
    },
    "kernelspec": {
      "name": "python3",
      "display_name": "Python 3"
    }
  },
  "cells": [
    {
      "cell_type": "markdown",
      "metadata": {
        "id": "view-in-github",
        "colab_type": "text"
      },
      "source": [
        "<a href=\"https://colab.research.google.com/github/mansoorahmed-asterics/CPU-Scheduling-Algorithms/blob/master/Software_Based_Assignemnt.ipynb\" target=\"_parent\"><img src=\"https://colab.research.google.com/assets/colab-badge.svg\" alt=\"Open In Colab\"/></a>"
      ]
    },
    {
      "cell_type": "markdown",
      "metadata": {
        "id": "7vStsbkdEQ81"
      },
      "source": [
        "# Priority Scheduling"
      ]
    },
    {
      "cell_type": "code",
      "metadata": {
        "colab": {
          "base_uri": "https://localhost:8080/"
        },
        "id": "ncr0AdTOEGdK",
        "outputId": "233053a4-9dc1-4b12-db9d-0f814abdca41"
      },
      "source": [
        "def findWaitingTime(processes, n, wt):  \r\n",
        "    wt[0] = 0 \r\n",
        "    for i in range(1, n):  \r\n",
        "        wt[i] = processes[i - 1][1] + wt[i - 1]  \r\n",
        "def findTurnAroundTime(processes, n, wt, tat): \r\n",
        "    for i in range(n): \r\n",
        "        tat[i] = processes[i][1] + wt[i]    \r\n",
        "\r\n",
        "def findavgTime(processes, n):  \r\n",
        "    wt = [0] * n \r\n",
        "    tat = [0] * n  \r\n",
        "    findWaitingTime(processes, n, wt)  \r\n",
        "    findTurnAroundTime(processes, n, wt, tat)   \r\n",
        "    print(\"\\nProcesses    Burst Time    Waiting\",\"Time    Turn-Around Time\") \r\n",
        "    total_wt = 0\r\n",
        "    total_tat = 0\r\n",
        "    for i in range(n): \r\n",
        "      total_wt = total_wt + wt[i]  \r\n",
        "      total_tat = total_tat + tat[i]  \r\n",
        "      print(\" \", processes[i][0], \"\\t\\t\",processes[i][1], \"\\t\\t\",wt[i], \"\\t\\t\", tat[i]) \r\n",
        "    print(\"\\nAverage waiting time = %.5f \"%(total_wt /n)) \r\n",
        "    print(\"Average turn around time = \", total_tat / n)  \r\n",
        "  \r\n",
        "def priorityScheduling(proc, n): \r\n",
        "    proc = sorted(proc, key = lambda proc:proc[2],reverse = True);  \r\n",
        "    print(\"Order in which processes gets executed\") \r\n",
        "    for i in proc: \r\n",
        "        print(i[0], end = \" \") \r\n",
        "    findavgTime(proc, n)  \r\n",
        "      \r\n",
        "# Driver code  \r\n",
        "if __name__ ==\"__main__\": \r\n",
        "    proc = [[1, 84, 1],  \r\n",
        "            [2, 80, 0],  \r\n",
        "            [3, 76, 1],\r\n",
        "            [4,72,2]] \r\n",
        "    n = 3\r\n",
        "    priorityScheduling(proc, n)\r\n"
      ],
      "execution_count": 1,
      "outputs": [
        {
          "output_type": "stream",
          "text": [
            "Order in which processes gets executed\n",
            "4 1 3 2 \n",
            "Processes    Burst Time    Waiting Time    Turn-Around Time\n",
            "  4 \t\t 72 \t\t 0 \t\t 72\n",
            "  1 \t\t 84 \t\t 72 \t\t 156\n",
            "  3 \t\t 76 \t\t 156 \t\t 232\n",
            "\n",
            "Average waiting time = 76.00000 \n",
            "Average turn around time =  153.33333333333334\n"
          ],
          "name": "stdout"
        }
      ]
    },
    {
      "cell_type": "markdown",
      "metadata": {
        "id": "DC9dnWKpEhXG"
      },
      "source": [
        "# Round Robin"
      ]
    },
    {
      "cell_type": "code",
      "metadata": {
        "colab": {
          "base_uri": "https://localhost:8080/"
        },
        "id": "5faDkqekEmPx",
        "outputId": "26c4fa30-cf03-4b63-a04c-026d3faec180"
      },
      "source": [
        "def findWaitingTime(processes, n, bt,  \r\n",
        "                         wt, quantum):  \r\n",
        "    rem_bt = [0] * n  \r\n",
        "    for i in range(n):  \r\n",
        "        rem_bt[i] = bt[i] \r\n",
        "    t = 0   \r\n",
        "    while(1): \r\n",
        "        done = True \r\n",
        "        for i in range(n):  \r\n",
        "            if (rem_bt[i] > 0) : \r\n",
        "                done = False\r\n",
        "                if (rem_bt[i] > quantum) : \r\n",
        "                    t += quantum  \r\n",
        "                    rem_bt[i] -= quantum  \r\n",
        "                else:  \r\n",
        "                    t = t + rem_bt[i]    \r\n",
        "                    wt[i] = t - bt[i]  \r\n",
        "                    rem_bt[i] = 0 \r\n",
        "        if (done == True): \r\n",
        "            break\r\n",
        "              \r\n",
        "def findTurnAroundTime(processes, n, bt, wt, tat): \r\n",
        "    for i in range(n): \r\n",
        "        tat[i] = bt[i] + wt[i]  \r\n",
        "def findavgTime(processes, n, bt, quantum):  \r\n",
        "    wt = [0] * n \r\n",
        "    tat = [0] * n  \r\n",
        "    findWaitingTime(processes, n, bt,wt, quantum)   \r\n",
        "    findTurnAroundTime(processes, n, bt,wt, tat)    \r\n",
        "    print(\"Processes    Burst Time     Waiting\",\"Time    Turn-Around Time\") \r\n",
        "    total_wt = 0\r\n",
        "    total_tat = 0\r\n",
        "    for i in range(n): \r\n",
        "  \r\n",
        "        total_wt = total_wt + wt[i]  \r\n",
        "        total_tat = total_tat + tat[i]  \r\n",
        "        print(\" \", i + 1, \"\\t\\t\", bt[i],  \r\n",
        "              \"\\t\\t\", wt[i], \"\\t\\t\", tat[i]) \r\n",
        "  \r\n",
        "    print(\"\\nAverage waiting time = %.5f \"%(total_wt /n) ) \r\n",
        "    print(\"Average turn around time = %.5f \"% (total_tat / n))  \r\n",
        "      \r\n",
        "# Driver code  \r\n",
        "if __name__ ==\"__main__\":  \r\n",
        "    proc = [1, 2, 3, 4] \r\n",
        "    n = 4\r\n",
        "    burst_time = [84,80,76,72]  \r\n",
        "    quantum = 36;  \r\n",
        "    findavgTime(proc, n, burst_time, quantum) \r\n"
      ],
      "execution_count": 5,
      "outputs": [
        {
          "output_type": "stream",
          "text": [
            "Processes    Burst Time     Waiting Time    Turn-Around Time\n",
            "  1 \t\t 84 \t\t 216 \t\t 300\n",
            "  2 \t\t 80 \t\t 228 \t\t 308\n",
            "  3 \t\t 76 \t\t 236 \t\t 312\n",
            "  4 \t\t 72 \t\t 216 \t\t 288\n",
            "\n",
            "Average waiting time = 224.00000 \n",
            "Average turn around time = 302.00000 \n"
          ],
          "name": "stdout"
        }
      ]
    },
    {
      "cell_type": "markdown",
      "metadata": {
        "id": "NUQaWStsGNiQ"
      },
      "source": [
        "# SJF Preemptive"
      ]
    },
    {
      "cell_type": "code",
      "metadata": {
        "colab": {
          "base_uri": "https://localhost:8080/"
        },
        "id": "ALyXdhfiFvd6",
        "outputId": "1f33a109-c7b0-49a9-d313-f2c53d1bd3bd"
      },
      "source": [
        "class SJF:\r\n",
        "\r\n",
        "    def processData(self, no_of_processes):\r\n",
        "        process_data = []\r\n",
        "        for i in range(no_of_processes):\r\n",
        "            temporary = []\r\n",
        "            process_id = int(input(\"Enter Process ID: \"))\r\n",
        "\r\n",
        "            arrival_time = int(input(f\"Enter Arrival Time for Process {process_id}: \"))\r\n",
        "\r\n",
        "            burst_time = int(input(f\"Enter Burst Time for Process {process_id}: \"))\r\n",
        "            temporary.extend([process_id, arrival_time, burst_time, 0])\r\n",
        "            '''\r\n",
        "            '0' is the state of the process. 0 means not executed and 1 means execution complete\r\n",
        "            '''\r\n",
        "            process_data.append(temporary)\r\n",
        "        SJF.schedulingProcess(self, process_data)\r\n",
        "\r\n",
        "    def schedulingProcess(self, process_data):\r\n",
        "        start_time = []\r\n",
        "        exit_time = []\r\n",
        "        s_time = 0\r\n",
        "        process_data.sort(key=lambda x: x[1])\r\n",
        "        '''\r\n",
        "        Sort processes according to the Arrival Time\r\n",
        "        '''\r\n",
        "        for i in range(len(process_data)):\r\n",
        "            ready_queue = []\r\n",
        "            temp = []\r\n",
        "            normal_queue = []\r\n",
        "\r\n",
        "            for j in range(len(process_data)):\r\n",
        "                if (process_data[j][1] <= s_time) and (process_data[j][3] == 0):\r\n",
        "                    temp.extend([process_data[j][0], process_data[j][1], process_data[j][2]])\r\n",
        "                    ready_queue.append(temp)\r\n",
        "                    temp = []\r\n",
        "                elif process_data[j][3] == 0:\r\n",
        "                    temp.extend([process_data[j][0], process_data[j][1], process_data[j][2]])\r\n",
        "                    normal_queue.append(temp)\r\n",
        "                    temp = []\r\n",
        "\r\n",
        "            if len(ready_queue) != 0:\r\n",
        "                ready_queue.sort(key=lambda x: x[2])\r\n",
        "                '''\r\n",
        "                Sort the processes according to the Burst Time\r\n",
        "                '''\r\n",
        "                start_time.append(s_time)\r\n",
        "                s_time = s_time + ready_queue[0][2]\r\n",
        "                e_time = s_time\r\n",
        "                exit_time.append(e_time)\r\n",
        "                for k in range(len(process_data)):\r\n",
        "                    if process_data[k][0] == ready_queue[0][0]:\r\n",
        "                        break\r\n",
        "                process_data[k][3] = 1\r\n",
        "                process_data[k].append(e_time)\r\n",
        "\r\n",
        "            elif len(ready_queue) == 0:\r\n",
        "                if s_time < normal_queue[0][1]:\r\n",
        "                    s_time = normal_queue[0][1]\r\n",
        "                start_time.append(s_time)\r\n",
        "                s_time = s_time + normal_queue[0][2]\r\n",
        "                e_time = s_time\r\n",
        "                exit_time.append(e_time)\r\n",
        "                for k in range(len(process_data)):\r\n",
        "                    if process_data[k][0] == normal_queue[0][0]:\r\n",
        "                        break\r\n",
        "                process_data[k][3] = 1\r\n",
        "                process_data[k].append(e_time)\r\n",
        "\r\n",
        "        t_time = SJF.calculateTurnaroundTime(self, process_data)\r\n",
        "        w_time = SJF.calculateWaitingTime(self, process_data)\r\n",
        "        SJF.printData(self, process_data, t_time, w_time)\r\n",
        "\r\n",
        "\r\n",
        "    def calculateTurnaroundTime(self, process_data):\r\n",
        "        total_turnaround_time = 0\r\n",
        "        for i in range(len(process_data)):\r\n",
        "            turnaround_time = process_data[i][4] - process_data[i][1]\r\n",
        "            '''\r\n",
        "            turnaround_time = completion_time - arrival_time\r\n",
        "            '''\r\n",
        "            total_turnaround_time = total_turnaround_time + turnaround_time\r\n",
        "            process_data[i].append(turnaround_time)\r\n",
        "        average_turnaround_time = total_turnaround_time / len(process_data)\r\n",
        "        '''\r\n",
        "        average_turnaround_time = total_turnaround_time / no_of_processes\r\n",
        "        '''\r\n",
        "        return average_turnaround_time\r\n",
        "\r\n",
        "\r\n",
        "    def calculateWaitingTime(self, process_data):\r\n",
        "        total_waiting_time = 0\r\n",
        "        for i in range(len(process_data)):\r\n",
        "            waiting_time = process_data[i][5] - process_data[i][2]\r\n",
        "            '''\r\n",
        "            waiting_time = turnaround_time - burst_time\r\n",
        "            '''\r\n",
        "            total_waiting_time = total_waiting_time + waiting_time\r\n",
        "            process_data[i].append(waiting_time)\r\n",
        "        average_waiting_time = total_waiting_time / len(process_data)\r\n",
        "        '''\r\n",
        "        average_waiting_time = total_waiting_time / no_of_processes\r\n",
        "        '''\r\n",
        "        return average_waiting_time\r\n",
        "\r\n",
        "\r\n",
        "    def printData(self, process_data, average_turnaround_time, average_waiting_time):\r\n",
        "        process_data.sort(key=lambda x: x[0])\r\n",
        "        '''\r\n",
        "        Sort processes according to the Process ID\r\n",
        "        '''\r\n",
        "        print(\"Process_ID  Arrival_Time  Burst_Time      Completed  Completion_Time  Turnaround_Time  Waiting_Time\")\r\n",
        "\r\n",
        "        for i in range(len(process_data)):\r\n",
        "            for j in range(len(process_data[i])):\r\n",
        "\r\n",
        "                print(process_data[i][j], end=\"\t\t\t\t\")\r\n",
        "            print()\r\n",
        "\r\n",
        "        print(f'Average Turnaround Time: {average_turnaround_time}')\r\n",
        "\r\n",
        "        print(f'Average Waiting Time: {average_waiting_time}')\r\n",
        "\r\n",
        "\r\n",
        "if __name__ == \"__main__\":\r\n",
        "    no_of_processes = int(input(\"Enter number of processes: \"))\r\n",
        "    sjf = SJF()\r\n",
        "    sjf.processData(no_of_processes)"
      ],
      "execution_count": 6,
      "outputs": [
        {
          "output_type": "stream",
          "text": [
            "Enter number of processes: 3\n",
            "Enter Process ID: 1\n",
            "Enter Arrival Time for Process 1: 2\n",
            "Enter Burst Time for Process 1: 3\n",
            "Enter Process ID: 2\n",
            "Enter Arrival Time for Process 2: 3\n",
            "Enter Burst Time for Process 2: 45\n",
            "Enter Process ID: 3\n",
            "Enter Arrival Time for Process 3: 5\n",
            "Enter Burst Time for Process 3: 223\n",
            "Process_ID  Arrival_Time  Burst_Time      Completed  Completion_Time  Turnaround_Time  Waiting_Time\n",
            "1\t\t\t\t2\t\t\t\t3\t\t\t\t1\t\t\t\t5\t\t\t\t3\t\t\t\t0\t\t\t\t\n",
            "2\t\t\t\t3\t\t\t\t45\t\t\t\t1\t\t\t\t50\t\t\t\t47\t\t\t\t2\t\t\t\t\n",
            "3\t\t\t\t5\t\t\t\t223\t\t\t\t1\t\t\t\t273\t\t\t\t268\t\t\t\t45\t\t\t\t\n",
            "Average Turnaround Time: 106.0\n",
            "Average Waiting Time: 15.666666666666666\n"
          ],
          "name": "stdout"
        }
      ]
    },
    {
      "cell_type": "markdown",
      "metadata": {
        "id": "4HEpSFRePlhy"
      },
      "source": [
        "# SJF Preemptive"
      ]
    },
    {
      "cell_type": "code",
      "metadata": {
        "colab": {
          "base_uri": "https://localhost:8080/"
        },
        "id": "wfNFnAiaPrk0",
        "outputId": "3f4107cf-1412-4ed0-cdbb-b04c5468b26b"
      },
      "source": [
        "brust_timee=[]\r\n",
        "process=[]\r\n",
        "arival_timee=[]\r\n",
        "n=int(input(\"number of process \"))\r\n",
        "\r\n",
        "for i in range(0,n):\r\n",
        "    h=int(input(\"Enter the rocess ID \"))\r\n",
        "    hh=int(input(\"Enter there burst time  \"))\r\n",
        "    hhh=int(input(\"Enter there arrival time \"))\r\n",
        "    process.append(h)\r\n",
        "    brust_timee.append(hh)\r\n",
        "    arival_timee.append(hhh)\r\n",
        "    \r\n",
        "    \r\n",
        "for i in range(0,len(brust_timee)-1):  \r\n",
        "    for j in range(0,len(brust_timee)-i-1):\r\n",
        "        if(brust_timee[j]>brust_timee[j+1]):\r\n",
        "            temp_variable=brust_timee[j]\r\n",
        "            brust_timee[j]=brust_timee[j+1]\r\n",
        "            brust_timee[j+1]=temp_variable\r\n",
        "            temp_variable=process[j]\r\n",
        "            process[j]=process[j+1]\r\n",
        "            process[j+1]=temp_variable\r\n",
        "            \r\n",
        "waiting_timee=[] \r\n",
        "avg_waiting_timee=0  \r\n",
        "turn_around_timee=[]    \r\n",
        "avg_turn_around_time=0   \r\n",
        "waiting_timee.insert(0,0)\r\n",
        "turn_around_timee.insert(0,brust_timee[0])\r\n",
        "KKK=len(brust_timee)\r\n",
        "\r\n",
        "for i in range(1,KKK):\r\n",
        "    waiting_timee.insert(i,waiting_timee[i-1]+brust_timee[i-1])\r\n",
        "    turn_around_timee.insert(i,waiting_timee[i]+brust_timee[i])\r\n",
        "    avg_waiting_timee+=waiting_timee[i]\r\n",
        "    avg_turn_around_time+=turn_around_timee[i]\r\n",
        "avg_waiting_timee=float(avg_waiting_timee)/n\r\n",
        "avg_turn_around_time=float(avg_turn_around_time)/n\r\n",
        "\r\n",
        "print(\"Process BT     AT      wT      TAT\")\r\n",
        "for i in range(0,n):\r\n",
        "    print(str(process[i])+\"\\t\"+str(brust_timee[i])+\"\\t\"+str(arival_timee[i])+\"\\t\"+str(waiting_timee[i])+\"\\t\"+str(turn_around_timee[i]))\r\n",
        "    \r\n",
        "\r\n",
        "print(\"Average Waiting time  \",avg_waiting_timee) \r\n",
        "print(\"Average Turn Arount Time  \",avg_turn_around_time)"
      ],
      "execution_count": 7,
      "outputs": [
        {
          "output_type": "stream",
          "text": [
            "number of process 3\n",
            "Enter the rocess ID 1\n",
            "Enter there burst time  23\n",
            "Enter there arrival time 2\n",
            "Enter the rocess ID 2\n",
            "Enter there burst time  334\n",
            "Enter there arrival time 0\n",
            "Enter the rocess ID 3\n",
            "Enter there burst time  123\n",
            "Enter there arrival time 4\n",
            "Process BT     AT      wT      TAT\n",
            "1\t23\t2\t0\t23\n",
            "3\t123\t0\t23\t146\n",
            "2\t334\t4\t146\t480\n",
            "Average Waiting time   56.333333333333336\n",
            "Average Turn Arount Time   208.66666666666666\n"
          ],
          "name": "stdout"
        }
      ]
    }
  ]
}